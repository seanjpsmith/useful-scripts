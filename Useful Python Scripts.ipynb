{
 "cells": [
  {
   "cell_type": "markdown",
   "metadata": {},
   "source": [
    "## Repository for useful python scripts for data processing"
   ]
  },
  {
   "cell_type": "code",
   "execution_count": 1,
   "metadata": {},
   "outputs": [],
   "source": [
    "## standard modules to import\n",
    "import numpy as np\n",
    "import pandas as pd\n",
    "import numpy as np\n",
    "import html\n",
    "import re\n",
    "from nameparser import HumanName\n",
    "\n",
    "# standard pandas display options\n",
    "pd.set_option('display.max_columns', 500)\n",
    "pd.set_option('display.max_rows', 500)\n",
    "pd.set_option('display.max_colwidth', -1)\n"
   ]
  },
  {
   "cell_type": "code",
   "execution_count": null,
   "metadata": {},
   "outputs": [],
   "source": [
    "# === useful functions ===\n",
    "\n",
    "def seniority_assignment(df):\n",
    "    # takes df with 'Title' column, returns df with seniority column matching SFDC conventions\n",
    "    \n",
    "    SENIOR = ['Senior', 'Sr', 'manager', 'mgr', 'lead', 'head', 'principle', 'principal']\n",
    "    DIRECTOR = ['Director', 'Dir']\n",
    "    VP = [' vice', 'President', 'VP', 'vice president']\n",
    "    EXECUTIVE = ['chief', 'Executive', 'CEO', 'CIO', 'CSO', 'CTO ', 'founder']\n",
    "\n",
    "    # create list of regex search patterns\n",
    "    seniority_levels = []\n",
    "    for level in [SENIOR, DIRECTOR, VP, EXECUTIVE]:\n",
    "        esc_lst = [re.escape(s) for s in level]\n",
    "        pattern = '|'.join(esc_lst)\n",
    "        seniority_levels.append(pattern)\n",
    "\n",
    "    # assign seniority level based on keywords\n",
    "    df.loc[df.Title.str.contains(seniority_levels[0], na=False, case=False, regex=True), 'Seniority'] = 'Senior'\n",
    "    df.loc[df.Title.str.contains(seniority_levels[1], na=False, case=False, regex=True), 'Seniority'] = 'Director'\n",
    "    df.loc[df.Title.str.contains(seniority_levels[2], na=False, case=False, regex=True), 'Seniority'] = 'VP'\n",
    "    df.loc[df.Title.str.contains(seniority_levels[3], na=False, case=False, regex=True), 'Seniority'] = 'Executive'\n",
    "\n",
    "    # default is 'Entry'\n",
    "    df.Seniority = df.Seniority.fillna(value = 'Entry')\n",
    "\n",
    "    # add CTO - this was picking up direCTOr before I added a space to the search term\n",
    "    df.loc[df.Title == 'CTO', 'Seniority'] = 'Executive'\n",
    "    \n",
    "    return df\n",
    "\n",
    "def first_name(unformatted_name):\n",
    "    name = HumanName(unformatted_name)\n",
    "    name.capitalize(force=True)\n",
    "    return name.first\n",
    "\n",
    "def last_name(unformatted_name):\n",
    "    name = HumanName(unformatted_name)\n",
    "    name.capitalize(force=True)\n",
    "    return name.last\n",
    "\n",
    "def title_processing(df):\n",
    "    # removes rows from df with job titles that are not of interest (e.g. sales and academic titles)\n",
    "    # takes df with a 'Title' column and returns df with rows removed\n",
    "    \n",
    "    titles_dont_care = ['talent', 'sales', 'commercial', 'marketing', 'people',\n",
    "                        'clinical', 'communication', 'Administrative', 'administration',\n",
    "                        'Human Resources', 'HR', 'Consultant', 'Contractor', \n",
    "                        'self employed', 'patient', 'trial', 'nurse', 'events', \n",
    "                        'business', 'assistant', 'professor', 'scholar', 'student', \n",
    "                        'fellow', 'candidate', 'postdoc', 'post doc', \n",
    "                        'field application scientist']\n",
    "\n",
    "    # create an regex friendly version of the titles list using re.escape\n",
    "    esc_list = [re.escape(s) for s in titles_dont_care]\n",
    "    \n",
    "    # join the escape list by regex pipe\n",
    "    search_pattern = '|'.join(esc_list)\n",
    "\n",
    "    # update the dataframe to remove people with undesireable words in title\n",
    "    return df[~df.Title.str.contains(search_pattern, na=False, case=False, regex=True)]"
   ]
  }
 ],
 "metadata": {
  "kernelspec": {
   "display_name": "Python 3",
   "language": "python",
   "name": "python3"
  },
  "language_info": {
   "codemirror_mode": {
    "name": "ipython",
    "version": 3
   },
   "file_extension": ".py",
   "mimetype": "text/x-python",
   "name": "python",
   "nbconvert_exporter": "python",
   "pygments_lexer": "ipython3",
   "version": "3.6.5"
  }
 },
 "nbformat": 4,
 "nbformat_minor": 2
}
