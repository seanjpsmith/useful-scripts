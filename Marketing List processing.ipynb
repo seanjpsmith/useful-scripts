{
 "cells": [
  {
   "cell_type": "code",
   "execution_count": 2,
   "metadata": {},
   "outputs": [],
   "source": [
    "## standard modules to import\n",
    "import pandas as pd\n",
    "import re\n",
    "from nameparser import HumanName\n",
    "\n",
    "# standard pandas display options\n",
    "pd.set_option('display.max_columns', 500)\n",
    "pd.set_option('display.max_rows', 500)\n",
    "pd.set_option('display.max_colwidth', -1)\n"
   ]
  },
  {
   "cell_type": "code",
   "execution_count": 5,
   "metadata": {},
   "outputs": [],
   "source": [
    "# Use a lookup table to assign SFDC account ID based on domain\n",
    "\n",
    "def return_domain(email):\n",
    "    # takes an email address and returns a simplified domain (without email etc.)\n",
    "    try:\n",
    "        domain = re.split(\"@\", email)[1]\n",
    "        simplified_domain = re.split(\"\\.\", domain)[0]\n",
    "        return domain\n",
    "    except:\n",
    "        return \"\"\n",
    "\n",
    "\n",
    "# load domain lookup list and de_dupe\n",
    "# note that we really need to sort out this list - there are a lot of incorrectly assigned \"email domain\" values\n",
    "domain_list = pd.read_csv('domain to account id.csv')\n",
    "domain_list = domain_list.drop_duplicates(['Account Email Domain'])\n",
    "\n",
    "lead_list['Domain'] = lead_list.apply(lambda row: return_domain(row['Email']),axis=1)\n",
    "\n",
    "lead_list = lead_list.merge(domain_list, \n",
    "                left_on='Domain', \n",
    "                right_on='Account Email Domain', \n",
    "                how='left')"
   ]
  },
  {
   "cell_type": "code",
   "execution_count": null,
   "metadata": {},
   "outputs": [],
   "source": [
    "# Convert country info into Salesforce format\n",
    "lead_list['Country'] = lead_list['Country'].replace(\n",
    "    {'USA':'United States', \n",
    "     'KOREA':'Korea, Republic of',\n",
    "     'THE NETHERLANDS':'Netherlands',\n",
    "     'RUSSIA':'Russian Federation'}) \n",
    "\n",
    "# case insensitive replacement would be better but I couldn't figure it out\n"
   ]
  },
  {
   "cell_type": "code",
   "execution_count": null,
   "metadata": {},
   "outputs": [],
   "source": [
    "# Change abbreviated states to long form\n",
    "\n",
    "# load state table csv\n",
    "states = pd.read_csv(\"states_table.csv\")\n",
    "\n",
    "# left join with states table for full names\n",
    "lead_list = lead_list.merge(states[['Abbreviation', 'State']],\n",
    "                            left_on='State_abbrev',\n",
    "                            right_on='Abbreviation',\n",
    "                            how='left')\n",
    "\n",
    "# delete unnecessary columns\n",
    "lead_list = lead_list.drop(['Abbreviation'], axis=1)\n"
   ]
  },
  {
   "cell_type": "code",
   "execution_count": null,
   "metadata": {},
   "outputs": [],
   "source": [
    "# (sometimes) convert a full name into first and last names and remove pre/post nominals\n",
    "\n",
    "def first_name(unformatted_name):\n",
    "    name = HumanName(unformatted_name)\n",
    "    name.capitalize(force=True)\n",
    "    return name.first\n",
    "\n",
    "def last_name(unformatted_name):\n",
    "    name = HumanName(unformatted_name)\n",
    "    name.capitalize(force=True)\n",
    "    return name.last\n"
   ]
  },
  {
   "cell_type": "code",
   "execution_count": 4,
   "metadata": {},
   "outputs": [],
   "source": [
    "# assign seniority based on title\n",
    "\n",
    "def seniority_assignment(df):\n",
    "    # takes df with 'Title' column, returns df with seniority column matching SFDC conventions\n",
    "    \n",
    "    SENIOR = ['Senior', 'Sr', 'manager', 'mgr', 'lead', 'head', 'principle', 'principal']\n",
    "    DIRECTOR = ['Director', 'Dir']\n",
    "    VP = [' vice', 'President', 'VP', 'vice president']\n",
    "    EXECUTIVE = ['chief', 'Executive', 'CEO', 'CIO', 'CSO', 'CTO ', 'founder']\n",
    "\n",
    "    # create list of regex search patterns\n",
    "    seniority_levels = []\n",
    "    for level in [SENIOR, DIRECTOR, VP, EXECUTIVE]:\n",
    "        esc_lst = [re.escape(s) for s in level]\n",
    "        pattern = '|'.join(esc_lst)\n",
    "        seniority_levels.append(pattern)\n",
    "\n",
    "    # assign seniority level based on keywords\n",
    "    df.loc[df.Title.str.contains(seniority_levels[0], na=False, case=False, regex=True), 'Seniority'] = 'Senior'\n",
    "    df.loc[df.Title.str.contains(seniority_levels[1], na=False, case=False, regex=True), 'Seniority'] = 'Director'\n",
    "    df.loc[df.Title.str.contains(seniority_levels[2], na=False, case=False, regex=True), 'Seniority'] = 'VP'\n",
    "    df.loc[df.Title.str.contains(seniority_levels[3], na=False, case=False, regex=True), 'Seniority'] = 'Executive'\n",
    "\n",
    "    # default is 'Entry'\n",
    "    df.Seniority = df.Seniority.fillna(value = 'Entry')\n",
    "\n",
    "    # add CTO - this was picking up direCTOr before I added a space to the search term\n",
    "    df.loc[df.Title == 'CTO', 'Seniority'] = 'Executive'\n",
    "    \n",
    "    return df\n"
   ]
  }
 ],
 "metadata": {
  "kernelspec": {
   "display_name": "Python 3",
   "language": "python",
   "name": "python3"
  },
  "language_info": {
   "codemirror_mode": {
    "name": "ipython",
    "version": 3
   },
   "file_extension": ".py",
   "mimetype": "text/x-python",
   "name": "python",
   "nbconvert_exporter": "python",
   "pygments_lexer": "ipython3",
   "version": "3.7.3"
  }
 },
 "nbformat": 4,
 "nbformat_minor": 2
}
